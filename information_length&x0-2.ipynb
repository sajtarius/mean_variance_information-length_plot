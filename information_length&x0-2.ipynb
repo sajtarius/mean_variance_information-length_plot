{
 "cells": [
  {
   "cell_type": "code",
   "execution_count": 1,
   "id": "89fe87ea",
   "metadata": {},
   "outputs": [],
   "source": [
    "import numpy as np\n",
    "import matplotlib.pyplot as plt \n",
    "from scipy.integrate import quad\n",
    "from scipy.misc import derivative"
   ]
  },
  {
   "cell_type": "markdown",
   "id": "a3dfb105",
   "metadata": {},
   "source": [
    "# Probability Density Function \n",
    "<p> The following script is used to plot the [probability density function], $p(x,t) = \\sqrt{\\frac{\\beta_T}{\\pi}} e^{-\\beta_T \\left[ x - x_0 e^{-\\gamma t} \\right]^2}$ such that $\\beta_T = \\frac{\\beta_0 \\beta}{\\beta_0 + \\beta e^{-2\\gamma t}}$ and $\\beta = \\frac{\\gamma}{2D\\left[ 1-e^{-2\\gamma t} \\right]}$; with the [initial probability density] defined as: $ p(x_0,t=0) = \\sqrt{\\frac{\\beta_0}{\\pi}}e^{-\\beta_0(x_0-x_0 e^{-\\gamma t})^2} $. The plot considers various $\\left< x(t=0) \\right> = x_0 \\in [0.0001,1]$. </p>"
   ]
  },
  {
   "cell_type": "code",
   "execution_count": 3,
   "id": "ee0ce676",
   "metadata": {},
   "outputs": [
    {
     "data": {
      "image/png": "[encoded data removed]",
      "text/plain": [
       "<Figure size 432x288 with 1 Axes>"
      ]
     },
     "metadata": {
      "needs_background": "light"
     },
     "output_type": "display_data"
    }
   ],
   "source": [
    "#define the probability density function\n",
    "def pro1(x, x0, b0, D, g, t):\n",
    "    s = (np.exp(-2*g*t))/(2*b0) + (D*(1-np.exp(-2*g*t)))/(g)\n",
    "    bt = 1/(2*s)\n",
    "    return np.sqrt(bt/np.pi)*np.exp(-bt*(x-x0*np.exp(-g*t))**2)\n",
    "\n",
    "#initialize the constants\n",
    "b0=0.001\n",
    "D=1\n",
    "g=1\n",
    "t=0\n",
    "\n",
    "#generate the constants for x0\n",
    "list_x0=[]\n",
    "val_x0 = np.linspace(0.0001, 1, 50)\n",
    "for x0 in val_x0:\n",
    "    list_x0.append(x0)\n",
    "\n",
    "#x-axis values\n",
    "points=1000\n",
    "x_range=np.linspace(-3,25,points)\n",
    "\n",
    "ans=np.zeros(points) #generate zeros of array for later value input\n",
    "\n",
    "#looping to generate the result and plot the graph \n",
    "for x0 in list_x0:\n",
    "    f1 = open('result_x0'+str(x0)+\".txt\",\"w\")\n",
    "    for j in range(0, len(x_range)):\n",
    "        x=x_range[j]\n",
    "        ans[j]=pro1(x, x0, b0, D, g, t)\n",
    "        f1.write(str(x)+'\\t\\t'+str(ans[j])+'\\n')\n",
    "    plt.plot(x_range,ans)\n",
    "    f1.close\n",
    "    \n",
    "plt.xlabel('x')\n",
    "plt.ylabel('probability density function')\n",
    "plt.show()"
   ]
  },
  {
   "cell_type": "markdown",
   "id": "4c837b85",
   "metadata": {},
   "source": [
    "# Information length versus Mean ($\\left< x(t=0) \\right>$) when time $t=0$\n",
    "Continue with the values of $\\left< x(t=0) \\right>$, the plot for [information length] again [mean] is shown below. To make the calculation better, the [information length] is calculated as using the following expression: \n",
    "\n",
    "$\\mathcal{L}(t) = \\int dt \\ \\sqrt{\\frac{2(\\partial_t \\sigma)^2 + (\\partial_t \\left< x \\right>)^2}{\\sigma^2}} = \\int dt \\ \\sqrt{\\frac{1}{\\sigma^2}\\left[ 2\\left( \\frac{D}{\\sigma}-\\gamma\\sigma \\right)^2 +(-\\gamma \\left< x \\right>)^2 \\right]}$\n",
    "\n",
    "$\\because \\frac{\\partial_t \\sigma}{\\sigma} = \\frac{\\partial_t \\beta}{\\beta} = 2D\\beta - \\gamma \\rightarrow \\partial_t \\sigma = \\frac{D}{\\sigma} - \\gamma \\sigma$\n",
    "\n",
    "$\\because \\partial_t \\left< x(t) \\right> = -\\gamma \\left< x(t) \\right>$"
   ]
  },
  {
   "cell_type": "code",
   "execution_count": null,
   "id": "f5aa137f",
   "metadata": {},
   "outputs": [],
   "source": [
    "#define mean function, NOTE: f1=0\n",
    "def mean1(x0, g, i):\n",
    "    return x0*np.exp(-g*i)\n",
    "\n",
    "#define variance function, NOTE: f1=0\n",
    "def var(i, g, b0, D):\n",
    "    return (np.exp(-2*g*i))/(2*b0) + (D*(1-np.exp(-2*g*i)))/(g)\n",
    "\n",
    "#range of time, t\n",
    "points=100\n",
    "t_range=np.linspace(0,6,points)\n",
    "\n",
    "#generate zeros of array for later value input\n",
    "length=np.zeros(points)\n",
    "max_length=np.zeros(len(val_x0))\n",
    "\n",
    "#looping to generate the result and plot the graph \n",
    "for x0 in range(0, len(list_x0)):\n",
    "    f1=open(str(x0)+'.txt','w')\n",
    "    for j in range(0,len(t_range)):\n",
    "        t=t_range[j]\n",
    "        length[j]=quad(lambda j: np.sqrt((2*(D/np.sqrt(var(j, g, b0, D)) - g*np.sqrt(var(j, g, b0, D)))**2 + (-g*mean1(x0, g, j))**2)/(var(j, g, b0, D))), 0, j)[0]\n",
    "        f1.write(str(t)+'\\t\\t'+str(length[j])+'\\n')\n",
    "    max_length[x0]=np.max(length)\n",
    "    f1.close\n",
    "\n",
    "print(max_length)\n",
    "plt.plot(list_x0, max_length)\n",
    "plt.xlabel('x0')\n",
    "plt.ylabel('information length')\n",
    "plt.show()"
   ]
  },
  {
   "cell_type": "code",
   "execution_count": null,
   "id": "53303d80",
   "metadata": {},
   "outputs": [],
   "source": []
  }
 ],
 "metadata": {
  "kernelspec": {
   "display_name": "Python 3 (ipykernel)",
   "language": "python",
   "name": "python3"
  },
  "language_info": {
   "codemirror_mode": {
    "name": "ipython",
    "version": 3
   },
   "file_extension": ".py",
   "mimetype": "text/x-python",
   "name": "python",
   "nbconvert_exporter": "python",
   "pygments_lexer": "ipython3",
   "version": "3.9.7"
  }
 },
 "nbformat": 4,
 "nbformat_minor": 5
}
